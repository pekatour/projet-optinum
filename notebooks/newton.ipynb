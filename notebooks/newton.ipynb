{
 "cells": [
  {
   "cell_type": "markdown",
   "metadata": {},
   "source": [
    "<center>\n",
    "<h1> TP-Projet d'optimisation numérique </h1>\n",
    "<h1> Algorithme de Newton </h1>\n",
    "</center>"
   ]
  },
  {
   "cell_type": "markdown",
   "metadata": {},
   "source": [
    "## Implémentation \n",
    " \n",
    "1. Coder l’algorithme de Newton dans le fichier `src/newton.jl` en respectant la spécification donnée dans ce même fichier ;\n",
    "2. Exécuter les tests ci-dessous et vérifier qu'ils passent.\n",
    "\n",
    "Pour les tests, nous avons défini les fonctions suivantes $f_1 \\colon \\mathbb{R}^3 \\to \\mathbb{R}$\n",
    "et $f_2 \\colon \\mathbb{R}^2 \\to \\mathbb{R}$.\n",
    "\n",
    "$$\n",
    "    f_{1}(x_1, x_2, x_3) = 2 (x_1 +x_2 + x_3 -3)^2 + (x_1-x_2)^2 + (x_2 - x_3)^2\n",
    "$$\n",
    "et\n",
    "$$\n",
    "    f_{2}(x_1,x_2) = 100(x_2-x_1^2)^2 + (1-x_1)^2.\n",
    "$$\n",
    "\n",
    "**Remarque.** On peut retrouver ces fonctions dans le fichier `test/fonctions_de_tests.jl`."
   ]
  },
  {
   "cell_type": "code",
   "execution_count": 3,
   "metadata": {},
   "outputs": [
    {
     "name": "stdout",
     "output_type": "stream",
     "text": [
      "Affichage des résultats des algorithmes : true\n",
      "\n",
      "-------------------------------------------------------------------------\n",
      "\u001b[34m\u001b[1mRésultats de : newton appliqué à f1:\u001b[22m\u001b[39m\n",
      "  * x0       = [1, 1, 1]\n",
      "  * x_sol    = [1, 1, 1]\n",
      "  * f(x_sol) = 0\n",
      "  * nb_iters = 0\n",
      "  * flag     = 0\n",
      "  * solution = [1, 1, 1]\n",
      "-------------------------------------------------------------------------\n",
      "\u001b[34m\u001b[1mRésultats de : newton appliqué à f1:\u001b[22m\u001b[39m\n",
      "  * x0       = [1, 0, 0]\n",
      "  * x_sol    = [1.0, 1.0, 0.9999999999999999]\n",
      "  * f(x_sol) = 1.232595164407831e-32\n",
      "  * nb_iters = 1\n",
      "  * flag     = 0\n",
      "  * solution = [1, 1, 1]\n",
      "-------------------------------------------------------------------------\n",
      "\u001b[34m\u001b[1mRésultats de : newton appliqué à f1:\u001b[22m\u001b[39m\n",
      "  * x0       = [10.0, 3.0, -2.2]\n",
      "  * x_sol    = [1.0, 0.9999999999999996, 0.9999999999999987]\n",
      "  * f(x_sol) = 7.296963373294359e-30\n",
      "  * nb_iters = 1\n",
      "  * flag     = 0\n",
      "  * solution = [1, 1, 1]\n",
      "-------------------------------------------------------------------------\n",
      "\u001b[34m\u001b[1mRésultats de : newton appliqué à f2:\u001b[22m\u001b[39m\n",
      "  * x0       = [-1.2, 1.0]\n",
      "  * x_sol    = [0.9999999999999999, 0.9999999999814724]\n",
      "  * f(x_sol) = 3.4326461875363225e-20\n",
      "  * nb_iters = 6\n",
      "  * flag     = 0\n",
      "  * solution = [1, 1]\n",
      "-------------------------------------------------------------------------\n",
      "\u001b[34m\u001b[1mRésultats de : newton appliqué à f2:\u001b[22m\u001b[39m\n",
      "  * x0       = [10, 0]\n",
      "  * x_sol    = [1.0, 1.0]\n",
      "  * f(x_sol) = 0.0\n",
      "  * nb_iters = 5\n",
      "  * flag     = 0\n",
      "  * solution = [1, 1]\n",
      "-------------------------------------------------------------------------\n",
      "\u001b[34m\u001b[1mRésultats de : newton appliqué à f2:\u001b[22m\u001b[39m\n",
      "  * x0       = [0.0, 0.005000000000000001]\n",
      "  * x_sol    = [-4.503599627370496e15, 0.0]\n",
      "  * f(x_sol) = 4.113761393303015e64\n",
      "  * nb_iters = 1\n",
      "  * flag     = 3\n",
      "  * solution = [1, 1]\n",
      "\u001b[0m\u001b[1mTest Summary:        | \u001b[22m\u001b[32m\u001b[1mPass  \u001b[22m\u001b[39m\u001b[36m\u001b[1mTotal  \u001b[22m\u001b[39m\u001b[0m\u001b[1mTime\u001b[22m\n",
      "algorithme de Newton | \u001b[32m  19  \u001b[39m\u001b[36m   19  \u001b[39m\u001b[0m0.4s\n"
     ]
    }
   ],
   "source": [
    "include(\"../src/newton.jl\")         # votre algorithme de Newton\n",
    "include(\"../test/tester_newton.jl\") # la fonction pour tester votre algorithme de Newton\n",
    "\n",
    "#\n",
    "afficher = true # si true, alors affiche les résultats des algorithmes\n",
    "\n",
    "#\n",
    "tester_newton(newton, afficher); # tester l'algorithme de Newton"
   ]
  },
  {
   "cell_type": "code",
   "execution_count": 26,
   "metadata": {},
   "outputs": [
    {
     "name": "stdout",
     "output_type": "stream",
     "text": [
      "-------------------------------------------------------------------------\n",
      "\u001b[34m\u001b[1mRésultats de : Newton appliqué à f0:\u001b[22m\u001b[39m\n",
      "  * x0       = -1.5707963267948966\n",
      "  * x_sol    = -1.5707963267948966\n",
      "  * f(x_sol) = -1.0\n",
      "  * nb_iters = 0\n",
      "  * flag     = 0\n",
      "  * solution = -1.5707963267948966\n",
      "-------------------------------------------------------------------------\n",
      "\u001b[34m\u001b[1mRésultats de : Newton appliqué à f0:\u001b[22m\u001b[39m\n",
      "  * x0       = -1.0707963267948966\n",
      "  * x_sol    = -1.5707963267949088\n",
      "  * f(x_sol) = -1.0\n",
      "  * nb_iters = 3\n",
      "  * flag     = 0\n",
      "  * solution = -1.5707963267948966\n",
      "-------------------------------------------------------------------------\n",
      "\u001b[34m\u001b[1mRésultats de : Newton appliqué à f0:\u001b[22m\u001b[39m\n",
      "  * x0       = 1.5707963267948966\n",
      "  * x_sol    = 1.5707963267948966\n",
      "  * f(x_sol) = 1.0\n",
      "  * nb_iters = 0\n",
      "  * flag     = 0\n",
      "  * solution = -1.5707963267948966\n"
     ]
    }
   ],
   "source": [
    "include(\"../src/newton.jl\") # votre algorithme de Newton\n",
    "include(\"../test/fonctions_de_tests.jl\") # pour avoir la fonction d'affichage des résultats\n",
    "\n",
    "# Fonction f0\n",
    "# -----------\n",
    "f0(x)      =  sin(x)\n",
    "grad_f0(x) =  cos(x) # la gradient de la fonction f0\n",
    "hess_f0(x) = -sin(x) # la hessienne de la fonction f0\n",
    "solution   = -pi/2\n",
    "\n",
    "# Fonction f1\n",
    "# -----------\n",
    "f1(x)      = 2*(x[1]+x[2]+x[3]-3)**2 + (x[1] - x[2])**2 + (x[2]-x[3])**2\n",
    "grad_f1(x) = 6*x[1] + \n",
    "\n",
    "x0 = solution\n",
    "x_sol, f_sol, flag, nb_iters = newton(f0, grad_f0, hess_f0, x0)\n",
    "afficher_resultats(\"Newton\", \"f0\", x0, x_sol, f_sol, flag, nb_iters, solution)\n",
    "\n",
    "x0 = -pi/2+0.5\n",
    "x_sol, f_sol, flag, nb_iters = newton(f0, grad_f0, hess_f0, x0)\n",
    "afficher_resultats(\"Newton\", \"f0\", x0, x_sol, f_sol, flag, nb_iters, solution)\n",
    "\n",
    "x0 = pi/2\n",
    "x_sol, f_sol, flag, nb_iters = newton(f0, grad_f0, hess_f0, x0)\n",
    "afficher_resultats(\"Newton\", \"f0\", x0, x_sol, f_sol, flag, nb_iters, solution)\n"
   ]
  },
  {
   "cell_type": "markdown",
   "metadata": {},
   "source": [
    "## Interprétation \n",
    "\n",
    "1. Justifier les résultats obtenus pour l'exemple $f_0$ ci-dessus;\n",
    "2. Justifier que l’algorithme implémenté converge en une itération pour $f_{1}$;\n",
    "3. Justifier que l’algorithme puisse ne pas converger pour $f_{2}$ avec certains points initiaux.\n",
    "\n",
    "**Remarque.** Vous pouvez mettre `affiche=true` dans les tests de l'algorithme de Newton pour\n",
    "vous aider.\n"
   ]
  },
  {
   "cell_type": "markdown",
   "metadata": {
    "scrolled": true
   },
   "source": [
    "1. 1. L'algorithme est lancé directement avec comme itéré de départ un minimum local de sinus, la condition d'arrêt est donc directement vérifiée.\n",
    "    2. L'algorithme est lancé avec comme itéré de départ un point dans le \"creux\" de sinus, ce qui mène au minimum.\n",
    "    3. L'algorithme est lancé avec comme itéré de départ exactement sur un maximum local de sinus, le gradient y est nul, la condition d'arrêt est dont directement vérifiée.\n",
    "\n",
    "On ne vérifie pas la condition que l'on a supposée vraie qui est que l'on doit être au voisinage de la solution.\n",
    "\n",
    "2. $f_1$ est polynomiale de degré deux : les dérivées selon deux variables différentes sont égales et donc la hessienne est symétrique, donc inversible, et donc le programme calcule directement une solution.\n",
    "\n",
    "3. $f_2$ est la fonction de Rosenbrock. Elle n'est pas convexe globalement, et donc on ne peut pas avoir toujours la hessienne en xk définie positive, ce qui empêche de "
   ]
  },
  {
   "cell_type": "code",
   "execution_count": null,
   "metadata": {},
   "outputs": [],
   "source": []
  }
 ],
 "metadata": {
  "kernelspec": {
   "display_name": "Julia 1.11.2",
   "language": "julia",
   "name": "julia-1.11"
  },
  "language_info": {
   "file_extension": ".jl",
   "mimetype": "application/julia",
   "name": "julia",
   "version": "1.11.2"
  }
 },
 "nbformat": 4,
 "nbformat_minor": 4
}
