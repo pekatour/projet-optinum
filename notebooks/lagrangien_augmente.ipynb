{
 "cells": [
  {
   "cell_type": "markdown",
   "metadata": {},
   "source": [
    "<center>\n",
    "<h1> TP-Projet d'optimisation numérique </h1>\n",
    "<h1> Algorithme du lagrangien augmenté </h1>\n",
    "</center>"
   ]
  },
  {
   "cell_type": "markdown",
   "metadata": {},
   "source": [
    "## Implémentation\n",
    "\n",
    "1. Implémenter l'algorithme du lagrangien augmenté, en utilisant les différentes méthodes\n",
    "qui ont été vues en première partie pour la résolution de la suite de problèmes sans\n",
    "contraintes (fichier `src/lagrangien_augmente.jl`). La spécification est donnée dans le fichier.\n",
    "2. Vérifier que les tests ci-dessous passent.\n",
    " "
   ]
  },
  {
   "cell_type": "code",
   "execution_count": 7,
   "metadata": {},
   "outputs": [
    {
     "name": "stdout",
     "output_type": "stream",
     "text": [
      "Affichage des résultats des algorithmes : true\n",
      "\n",
      "Coefs : 4.499961817889869 80\n",
      "-------------------------------------------------------------------------\n",
      "\u001b[34m\u001b[1mRésultats de : LA et newton appliqué à f1:\u001b[22m\u001b[39m\n",
      "  * x0       = [0, 1, 1]\n",
      "  * x_sol    = [0.5000042424566808, 1.2499978787716595, 0.5000042424566811]\n",
      "  * f(x_sol) = 2.249961818051857\n",
      "  * nb_iters = 7\n",
      "  * flag     = 0\n",
      "  * solution = [0.5, 1.25, 0.5]\n",
      "Coefs : 4.499961817889869 80\n",
      "-------------------------------------------------------------------------\n",
      "\u001b[34m\u001b[1mRésultats de : LA et newton appliqué à f1:\u001b[22m\u001b[39m\n",
      "  * x0       = [0.5, 1.25, 1.0]\n",
      "  * x_sol    = [0.5000042424566808, 1.2499978787716595, 0.5000042424566811]\n",
      "  * f(x_sol) = 2.249961818051857\n",
      "  * nb_iters = 7\n",
      "  * flag     = 0\n",
      "  * solution = [0.5, 1.25, 0.5]\n",
      "Coefs : 0.03865150236679149 40\n",
      "-------------------------------------------------------------------------\n",
      "\u001b[34m\u001b[1mRésultats de : LA et newton appliqué à f2:\u001b[22m\u001b[39m\n",
      "  * x0       = [1, 0]\n",
      "  * x_sol    = [0.9072336571162266, 0.8227549044924193]\n",
      "  * f(x_sol) = 0.008615707033558758\n",
      "  * nb_iters = 5\n",
      "  * flag     = 0\n",
      "  * solution = [0.9072339605110892, 0.82275545631455]\n",
      "Coefs : 0.038651502366471746 40\n",
      "-------------------------------------------------------------------------\n",
      "\u001b[34m\u001b[1mRésultats de : LA et newton appliqué à f2:\u001b[22m\u001b[39m\n",
      "  * x0       = [0.8660254037844386, 0.8660254037844386]\n",
      "  * x_sol    = [0.9072336571162514, 0.8227549044924647]\n",
      "  * f(x_sol) = 0.008615707033554137\n",
      "  * nb_iters = 5\n",
      "  * flag     = 0\n",
      "  * solution = [0.9072339605110892, 0.82275545631455]\n",
      "Coefs : 4.499999289228105 5120\n",
      "-------------------------------------------------------------------------\n",
      "\u001b[34m\u001b[1mRésultats de : LA et rc-cauchy appliqué à f1:\u001b[22m\u001b[39m\n",
      "  * x0       = [0, 1, 1]\n",
      "  * x_sol    = [0.4999908065152185, 1.249999054817623, 0.5000096838226636]\n",
      "  * f(x_sol) = 2.2499977936609543\n",
      "  * nb_iters = 25\n",
      "  * flag     = 0\n",
      "  * solution = [0.5, 1.25, 0.5]\n",
      "Coefs : 4.500000199848582 1310720\n",
      "-------------------------------------------------------------------------\n",
      "\u001b[34m\u001b[1mRésultats de : LA et rc-cauchy appliqué à f1:\u001b[22m\u001b[39m\n",
      "  * x0       = [0.5, 1.25, 1.0]\n",
      "  * x_sol    = [0.4999959486142158, 1.2499998839006936, 0.5000040552114956]\n",
      "  * f(x_sol) = 2.24999998281721\n",
      "  * nb_iters = 52\n",
      "  * flag     = 0\n",
      "  * solution = [0.5, 1.25, 0.5]\n",
      "Coefs : 0.0387254477813741 160\n",
      "-------------------------------------------------------------------------\n",
      "\u001b[34m\u001b[1mRésultats de : LA et rc-cauchy appliqué à f2:\u001b[22m\u001b[39m\n",
      "  * x0       = [1, 0]\n",
      "  * x_sol    = [0.9072348638395891, 0.8227586823592365]\n",
      "  * f(x_sol) = 0.008615382383138945\n",
      "  * nb_iters = 10\n",
      "  * flag     = 0\n",
      "  * solution = [0.9072339605110892, 0.82275545631455]\n",
      "Coefs : 0.03873447122388507 160\n",
      "-------------------------------------------------------------------------\n",
      "\u001b[34m\u001b[1mRésultats de : LA et rc-cauchy appliqué à f2:\u001b[22m\u001b[39m\n",
      "  * x0       = [0.8660254037844386, 0.8660254037844386]\n",
      "  * x_sol    = [0.9072351232507445, 0.8227584835286986]\n",
      "  * f(x_sol) = 0.008615376669024124\n",
      "  * nb_iters = 11\n",
      "  * flag     = 0\n",
      "  * solution = [0.9072339605110892, 0.82275545631455]\n",
      "Coefs : 4.4999618178898775 80\n",
      "-------------------------------------------------------------------------\n",
      "\u001b[34m\u001b[1mRésultats de : LA et rc-gct appliqué à f1:\u001b[22m\u001b[39m\n",
      "  * x0       = [0, 1, 1]\n",
      "  * x_sol    = [0.500004242456681, 1.2499978787716595, 0.500004242456681]\n",
      "  * f(x_sol) = 2.2499618180518564\n",
      "  * nb_iters = 7\n",
      "  * flag     = 0\n",
      "  * solution = [0.5, 1.25, 0.5]\n",
      "Coefs : 4.499961817889869 80\n",
      "-------------------------------------------------------------------------\n",
      "\u001b[34m\u001b[1mRésultats de : LA et rc-gct appliqué à f1:\u001b[22m\u001b[39m\n",
      "  * x0       = [0.5, 1.25, 1.0]\n",
      "  * x_sol    = [0.500004242456681, 1.2499978787716595, 0.500004242456681]\n",
      "  * f(x_sol) = 2.2499618180518564\n",
      "  * nb_iters = 7\n",
      "  * flag     = 0\n",
      "  * solution = [0.5, 1.25, 0.5]\n",
      "Coefs : 0.03865150236679149 40\n",
      "-------------------------------------------------------------------------\n",
      "\u001b[34m\u001b[1mRésultats de : LA et rc-gct appliqué à f2:\u001b[22m\u001b[39m\n",
      "  * x0       = [1, 0]\n",
      "  * x_sol    = [0.9072336571162266, 0.8227549044924193]\n",
      "  * f(x_sol) = 0.008615707033558758\n",
      "  * nb_iters = 5\n",
      "  * flag     = 0\n",
      "  * solution = [0.9072339605110892, 0.82275545631455]\n",
      "Coefs : 0.038651502366471746 40\n",
      "-------------------------------------------------------------------------\n",
      "\u001b[34m\u001b[1mRésultats de : LA et rc-gct appliqué à f2:\u001b[22m\u001b[39m\n",
      "  * x0       = [0.8660254037844386, 0.8660254037844386]\n",
      "  * x_sol    = [0.9072336571162514, 0.8227549044924647]\n",
      "  * f(x_sol) = 0.008615707033554137\n",
      "  * nb_iters = 5\n",
      "  * flag     = 0\n",
      "  * solution = [0.9072339605110892, 0.82275545631455]\n",
      "\u001b[0m\u001b[1mTest Summary:         | \u001b[22m\u001b[32m\u001b[1mPass  \u001b[22m\u001b[39m\u001b[36m\u001b[1mTotal  \u001b[22m\u001b[39m\u001b[0m\u001b[1mTime\u001b[22m\n",
      "Lagrangien augmenté   | \u001b[32m  12  \u001b[39m\u001b[36m   12  \u001b[39m\u001b[0m2.9s\n"
     ]
    }
   ],
   "source": [
    "include(\"../src/lagrangien_augmente.jl\")\n",
    "include(\"../test/tester_lagrangien_augmente.jl\")\n",
    "\n",
    "#\n",
    "afficher = true# si true, alors affiche les résultats des algorithmes\n",
    "\n",
    "#\n",
    "tester_lagrangien_augmente(lagrangien_augmente, afficher);"
   ]
  },
  {
   "cell_type": "markdown",
   "metadata": {},
   "source": [
    "## Interprétation\n",
    "\n",
    " 1. Commenter les résultats obtenus, en étudiant notamment les valeurs en sortie de $\\lambda_k$ et $\\mu_k$.\n",
    " 2. Étudier l'influence du paramètre $\\tau$ dans la performance de l'algorithme. Pour cela vous réaliserez des tests numériques."
   ]
  },
  {
   "cell_type": "code",
   "execution_count": null,
   "metadata": {},
   "outputs": [
    {
     "name": "stdout",
     "output_type": "stream",
     "text": [
      "Coefs : 4.499999289228105"
     ]
    }
   ],
   "source": [
    "# Expérimentations numériques à faire ici.\n",
    "# Vous pouvez utiliser le package Plots pour les affichages de courbes: using Plots\n",
    "include(\"../test/fonctions_de_tests.jl\")\n",
    "include(\"../src/lagrangien_augmente.jl\")\n",
    "\n",
    "val_τ = range(2,0.5,3)\n",
    "t_τ = []\n",
    "\n",
    "# Série de tests n°1 : avec le cas de test qui prend le plus d'itérations\n",
    "x0 = pts2.x01\n",
    "tol = 1e-5\n",
    "\n",
    "for τ in val_τ\n",
    "    t = time()\n",
    "    x_sol, f_sol, flag, nb_iters, _ = lagrangien_augmente(fct1, grad_fct1, hess_fct1, contrainte1, grad_contrainte1, hess_contrainte1, x0, tol_abs=tol, tol_rel=tol, algo_noc=\"rc-cauchy\",τ = τ)\n",
    "    if flag == 3\n",
    "        erreur = true\n",
    "    end\n",
    "    t_τ = vcat(t_τ, [time()-t])\n",
    "end\n",
    "print(t_τ)\n",
    "\n"
   ]
  },
  {
   "cell_type": "markdown",
   "metadata": {},
   "source": [
    "### Réponses\n",
    " 1. Pour une fonction donnée, $\\lambda_k$ (final) va être le même; tandis que pour $\\mu_k$, il peut avoir beaucoup augmenté avec le nombre d'itérations pour ramener l'optimisation dans la zone de contrainte ($\\mu_k$ sert à pénaliser $||c||$).\n",
    " En particulier pour le cas de test \"LA et rc-cauchy appliqué à f1\" avec x0 = [0.5, 1.25, 1.0], on a 52 itérations et $\\mu_k = 1310720$\n",
    " 2. $\\tau$ intervient dans la modification du facteur de pénalité $\\mu_k$ dans le cas où on ne se trouve pas dans la zone de contrainte."
   ]
  }
 ],
 "metadata": {
  "kernelspec": {
   "display_name": "Julia 1.11.2",
   "language": "julia",
   "name": "julia-1.11"
  },
  "language_info": {
   "file_extension": ".jl",
   "mimetype": "application/julia",
   "name": "julia",
   "version": "1.11.2"
  }
 },
 "nbformat": 4,
 "nbformat_minor": 4
}
